{
 "cells": [
  {
   "cell_type": "markdown",
   "metadata": {},
   "source": [
    "This notebook was used to produce Table 1 of\n",
    ">Anton Osokin, Anatole Chessel, Rafael E. Carazo Salas, Federico Vaggi<br>\n",
    "GANs for Biological Image Synthesis<br>\n",
    "In ICCV, 2017"
   ]
  },
  {
   "cell_type": "code",
   "execution_count": 1,
   "metadata": {
    "collapsed": true
   },
   "outputs": [],
   "source": [
    "import os\n",
    "import re\n",
    "import numpy as np"
   ]
  },
  {
   "cell_type": "code",
   "execution_count": 2,
   "metadata": {
    "collapsed": true
   },
   "outputs": [],
   "source": [
    "# parameters of the experiment\n",
    "num_diter = 5000\n",
    "\n",
    "log_path = 'logs_eval_8class_real_vs_real'\n",
    "eval_methods = ['WGAN-GP']\n",
    "classes_of_interest = ['Alp14', 'Arp3', 'Cki2', 'Mkh1', 'Sid2', 'Tea1', 'Fim1', 'Tea4']\n",
    "\n",
    "file_template = 'seed{0}_split{1}_eval{2}_iter{3}_classes{4}{5}.txt'\n",
    "\n",
    "num_splits = 10\n",
    "rand_seed = 0"
   ]
  },
  {
   "cell_type": "code",
   "execution_count": 3,
   "metadata": {
    "collapsed": true
   },
   "outputs": [],
   "source": [
    "def read_last_line(file_name):\n",
    "    with open(file_name) as f:\n",
    "        return(list(f)[-1])\n",
    "    \n",
    "def get_score(file_name):\n",
    "    score = float('nan')\n",
    "    try:\n",
    "        last_line = read_last_line(file_name)\n",
    "        numeric_const_pattern = \"[-+]?(?:(?:\\d*\\.\\d+)|(?:\\d+\\.?))(?:[Ee][+-]?\\d+)?\"\n",
    "        score_pattern = 'equals\\s*(%s)' % numeric_const_pattern\n",
    "        match = re.search(score_pattern, last_line)\n",
    "        if match:\n",
    "            score = float(match.group(1))\n",
    "    except:\n",
    "        print('Could not extract value from {0}'.format(file_name))\n",
    "    return score"
   ]
  },
  {
   "cell_type": "code",
   "execution_count": 4,
   "metadata": {
    "collapsed": true
   },
   "outputs": [],
   "source": [
    "mean_all = np.zeros((len(eval_methods), len(classes_of_interest), len(classes_of_interest)))\n",
    "std_all = np.zeros((len(eval_methods), len(classes_of_interest), len(classes_of_interest)))\n",
    "for i_eval, eval_method in enumerate(eval_methods):\n",
    "    for i_cl_a, class_a in enumerate(classes_of_interest):\n",
    "        for i_cl_b, class_b in enumerate(classes_of_interest):\n",
    "            split_data = np.zeros(num_splits)\n",
    "            for i_split in range(num_splits):\n",
    "                file_name = os.path.join(log_path, file_template)\n",
    "                file_name = file_name.format(rand_seed, i_split, eval_method, num_diter, class_a, class_b)\n",
    "                score = get_score(file_name)\n",
    "                split_data[i_split] = score\n",
    "        \n",
    "            mean_all[i_eval, i_cl_a, i_cl_b] = np.nanmean(split_data, axis=0)\n",
    "            std_all[i_eval, i_cl_a, i_cl_b] = np.nanstd(split_data, axis=0)\n"
   ]
  },
  {
   "cell_type": "code",
   "execution_count": 5,
   "metadata": {
    "collapsed": true
   },
   "outputs": [],
   "source": [
    "def do_table_latex(mean, std, classes_of_interest):\n",
    "    n_cl = len(classes_of_interest)\n",
    "    for cl in classes_of_interest:\n",
    "        print(' & \\\\protein{{{0}}}'.format(cl), end=' ')\n",
    "    print('\\\\\\\\')\n",
    "    for i in range(n_cl):\n",
    "        print('\\\\protein{{{0}}}'.format(classes_of_interest[i]), end=' ')\n",
    "        gray_col = np.argmin(mean[i])\n",
    "        for j in range(n_cl):\n",
    "            if j != gray_col:\n",
    "                gray_cell = ''\n",
    "            else:\n",
    "                gray_cell = '\\\\cellcolor{gray!25}'\n",
    "            print('& {2}{0:0.1f} $\\pm$ {1:0.1f}'.format(mean[j, i], std[j, i], gray_cell),end=' ')\n",
    "                    \n",
    "        print('\\\\\\\\')\n",
    "                \n",
    "def do_table(mean, std, classes_of_interest):\n",
    "    n_cl = len(classes_of_interest)\n",
    "    for cl in classes_of_interest:\n",
    "        print('\\t{0}'.format(cl), end=' ')\n",
    "    print('')\n",
    "    for i in range(n_cl):\n",
    "        print('{0}'.format(classes_of_interest[i]), end=' ')\n",
    "        for j in range(n_cl):\n",
    "            print('\\t {0:0.1f}\\u00B1{1:0.1f}'.format(mean[i, j], std[i, j]),end=' ')\n",
    "                    \n",
    "        print('')"
   ]
  },
  {
   "cell_type": "code",
   "execution_count": 6,
   "metadata": {},
   "outputs": [
    {
     "name": "stdout",
     "output_type": "stream",
     "text": [
      "Evaluation with WGAN-GP\n",
      "\tAlp14 \tArp3 \tCki2 \tMkh1 \tSid2 \tTea1 \tFim1 \tTea4 \n",
      "Alp14 \t 0.1±0.2 \t 14.4±0.2 \t 8.6±0.2 \t 12.3±0.4 \t 9.0±0.3 \t 11.3±0.3 \t 16.3±0.2 \t 9.7±0.6 \n",
      "Arp3 \t 12.5±0.3 \t 0.8±0.4 \t 15.9±0.3 \t 12.2±0.6 \t 19.5±0.4 \t 11.5±0.5 \t 2.8±0.3 \t 15.8±0.7 \n",
      "Cki2 \t 8.1±0.3 \t 16.2±0.2 \t -0.2±0.3 \t 13.6±0.3 \t 11.8±0.5 \t 15.9±0.3 \t 18.4±0.2 \t 14.0±0.9 \n",
      "Mkh1 \t 12.5±0.5 \t 11.5±0.4 \t 13.7±0.4 \t -0.2±0.4 \t 13.4±0.9 \t 14.4±0.6 \t 14.5±0.3 \t 13.9±0.9 \n",
      "Sid2 \t 9.5±0.2 \t 20.5±0.3 \t 12.0±0.3 \t 12.4±0.6 \t -0.6±0.3 \t 13.1±0.1 \t 23.4±0.3 \t 6.2±0.4 \n",
      "Tea1 \t 10.9±0.3 \t 13.2±0.2 \t 15.8±0.3 \t 13.3±0.6 \t 12.6±0.3 \t -0.1±0.4 \t 15.1±0.2 \t 5.9±0.3 \n",
      "Fim1 \t 15.6±0.3 \t 3.7±0.2 \t 18.5±0.4 \t 15.1±0.5 \t 23.9±0.4 \t 14.5±0.5 \t -0.2±0.3 \t 19.5±0.7 \n",
      "Tea4 \t 11.4±0.3 \t 18.3±0.3 \t 16.0±0.5 \t 14.9±0.8 \t 7.7±0.6 \t 6.9±0.5 \t 20.8±0.5 \t -0.5±0.7 \n",
      "\n"
     ]
    }
   ],
   "source": [
    "do_latex = False\n",
    "for i_eval in range(len(eval_methods)):\n",
    "    print('Evaluation with', eval_methods[i_eval])\n",
    "    if do_latex:\n",
    "        do_table_latex(mean_all[i_eval], std_all[i_eval], classes_of_interest)\n",
    "    else:\n",
    "        do_table(mean_all[i_eval], std_all[i_eval], classes_of_interest)\n",
    "    print('')"
   ]
  }
 ],
 "metadata": {
  "kernelspec": {
   "display_name": "Python 3",
   "language": "python",
   "name": "python3"
  },
  "language_info": {
   "codemirror_mode": {
    "name": "ipython",
    "version": 3
   },
   "file_extension": ".py",
   "mimetype": "text/x-python",
   "name": "python",
   "nbconvert_exporter": "python",
   "pygments_lexer": "ipython3",
   "version": "3.6.1"
  }
 },
 "nbformat": 4,
 "nbformat_minor": 2
}
