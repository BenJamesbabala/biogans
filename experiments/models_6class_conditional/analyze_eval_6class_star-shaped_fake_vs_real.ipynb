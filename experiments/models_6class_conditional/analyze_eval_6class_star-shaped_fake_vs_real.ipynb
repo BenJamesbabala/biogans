{
 "cells": [
  {
   "cell_type": "markdown",
   "metadata": {},
   "source": [
    "This notebook was used to produce Table 2 of\n",
    ">Anton Osokin, Anatole Chessel, Rafael E. Carazo Salas, Federico Vaggi<br>\n",
    "GANs for Biological Image Synthesis<br>\n",
    "In ICCV, 2017"
   ]
  },
  {
   "cell_type": "code",
   "execution_count": 1,
   "metadata": {
    "collapsed": true
   },
   "outputs": [],
   "source": [
    "import os\n",
    "import re\n",
    "import numpy as np\n",
    "import copy"
   ]
  },
  {
   "cell_type": "code",
   "execution_count": 2,
   "metadata": {
    "collapsed": true
   },
   "outputs": [],
   "source": [
    "# parameters of the experiment\n",
    "model_iter_of_interest = 50000\n",
    "num_diter = 5000\n",
    "\n",
    "log_path = 'logs_eval_6class_conditional_fake_vs_real'\n",
    "model_names = ['size-48-80_6class_wgangp-independent-adam',\n",
    "               'size-48-80_6class_wgangp-independent-sep-adam',\n",
    "               'size-48-80_6class_wgangp-multichannel-adam',\n",
    "               'size-48-80_6class_wgangp-multichannel-sep-adam',\n",
    "               'size-48-80_6class_wgangp-star-shaped-adam']\n",
    "model_names_for_legend = ['WGAN-GP independent',\n",
    "                          'WGAN-GP independent-separable',\n",
    "                          'WGAN-GP multi-channel',\n",
    "                          'WGAN-GP multi-channel separable',\n",
    "                          'WGAN-GP star-shaped']\n",
    "eval_methods = ['WGAN-GP'] #['GAN', 'WGAN', 'WGAN-GP']\n",
    "\n",
    "file_template = 'seed{0}_split{1}_{2}_trainIter{3}_eval{4}_iter{5}.txt'\n",
    "\n",
    "class_names = ['Alp14', 'Arp3', 'Cki2', 'Mkh1', 'Sid2', 'Tea1']\n",
    "\n",
    "num_splits = 10\n",
    "rand_seed = 0"
   ]
  },
  {
   "cell_type": "code",
   "execution_count": 3,
   "metadata": {
    "collapsed": true
   },
   "outputs": [],
   "source": [
    "def read_last_lines(file_name):\n",
    "    with open(file_name) as f:\n",
    "        lines = list(f)\n",
    "        return lines[-1], lines[-2]\n",
    "    \n",
    "def get_joint_score(file_name):\n",
    "    score = float('nan')\n",
    "    try:\n",
    "        last_line, _ = read_last_lines(file_name)\n",
    "        numeric_const_pattern = \"[-+]?(?:(?:\\d*\\.\\d+)|(?:\\d+\\.?))(?:[Ee][+-]?\\d+)?\"\n",
    "        score_pattern = 'equals\\s*(%s)' % numeric_const_pattern\n",
    "        match = re.search(score_pattern, last_line)\n",
    "        if match:\n",
    "            score = float(match.group(1))\n",
    "    except:\n",
    "        print('Could not extract value from {0}'.format(file_name))\n",
    "    return score\n",
    "\n",
    "def get_scores(file_name):\n",
    "    score = float('nan')\n",
    "    class_scores = {}\n",
    "    try:\n",
    "        last_line, second_last_line = read_last_lines(file_name)\n",
    "        numeric_const_pattern = \"[-+]?(?:(?:\\d*\\.\\d+)|(?:\\d+\\.?))(?:[Ee][+-]?\\d+)?\"\n",
    "        score_pattern = 'equals\\s*(%s)' % numeric_const_pattern\n",
    "        match = re.search(score_pattern, last_line)\n",
    "        if match:\n",
    "            score = float(match.group(1))\n",
    "            \n",
    "        class_scores = {}\n",
    "        for cl_name in class_names:\n",
    "            score_pattern = '%s:\\s*(%s);' % (cl_name, numeric_const_pattern)\n",
    "            match = re.search(score_pattern, second_last_line)\n",
    "            if match:\n",
    "                cl_score = float(match.group(1))\n",
    "            else:\n",
    "                cl_score = float('nan')\n",
    "            class_scores[cl_name] = cl_score\n",
    "    except:\n",
    "        print('Could not extract value from {0}'.format(file_name))\n",
    "    return score, class_scores"
   ]
  },
  {
   "cell_type": "code",
   "execution_count": 4,
   "metadata": {
    "collapsed": true
   },
   "outputs": [],
   "source": [
    "mean_all = np.zeros((len(eval_methods), len(class_names) + 1, len(model_names)))\n",
    "std_all = np.zeros((len(eval_methods), len(class_names) + 1, len(model_names)))\n",
    "for i_eval, eval_method in enumerate(eval_methods):\n",
    "    for i_model, model_name in enumerate(model_names):\n",
    "        split_scores, split_class_scores = [], []\n",
    "        for i_split in range(num_splits):\n",
    "            file_name = os.path.join(log_path, file_template)\n",
    "            file_name = file_name.format(rand_seed, i_split, model_name, model_iter_of_interest, eval_method, num_diter)\n",
    "            score, class_scores = get_scores(file_name)\n",
    "            split_scores.append(score)\n",
    "            split_class_scores.append(class_scores)\n",
    "        \n",
    "    \n",
    "        joint_data = np.array(split_scores)\n",
    "        mean_all[i_eval, -1, i_model] = np.nanmean(joint_data, axis=0)\n",
    "        std_all[i_eval, -1, i_model] = np.nanstd(joint_data, axis=0)\n",
    "            \n",
    "        for i_cl, class_name in enumerate(class_names):\n",
    "            class_data = np.array([s[class_name] for s in split_class_scores])\n",
    "            mean_all[i_eval, i_cl, i_model] = np.nanmean(class_data, axis=0)\n",
    "            std_all[i_eval, i_cl, i_model] = np.nanstd(class_data, axis=0)"
   ]
  },
  {
   "cell_type": "code",
   "execution_count": 5,
   "metadata": {
    "collapsed": true
   },
   "outputs": [],
   "source": [
    "def do_table_latex(mean, std, class_names):\n",
    "    n_cl = len(class_names)\n",
    "    for m in model_names_for_legend:\n",
    "        print(' & {0}'.format(m), end=' ')\n",
    "    print('\\\\\\\\')\n",
    "    cl_names = copy.deepcopy(class_names)\n",
    "    cl_names.append('6 proteins')\n",
    "    for i in range(n_cl + 1):\n",
    "        print('\\\\protein{{{0}}}'.format(cl_names[i]), end=' ')\n",
    "        gray_col = np.argmin(mean[i])\n",
    "        for j in range(len(model_names_for_legend)):\n",
    "            print('& {0:0.2f} $\\pm$ {1:0.2f}'.format(mean[i, j], std[i, j]),end=' ')\n",
    "                    \n",
    "        print('\\\\\\\\')\n",
    "        \n",
    "        \n",
    "def do_table(mean, std, class_names):\n",
    "    n_cl = len(class_names)\n",
    "    for m in model_names_for_legend:\n",
    "        print('\\t{0}'.format(m), end=' ')\n",
    "    print('')\n",
    "    cl_names = copy.deepcopy(class_names)\n",
    "    cl_names.append('all')\n",
    "    for i in range(n_cl + 1):\n",
    "        print('{0}'.format(cl_names[i]), end=' ')\n",
    "        for j in range(len(model_names_for_legend)):\n",
    "            print('\\t {0:0.2f}\\u00B1{1:0.2f}'.format(mean[i, j], std[i, j]),end=' ')\n",
    "        print('')"
   ]
  },
  {
   "cell_type": "code",
   "execution_count": 6,
   "metadata": {},
   "outputs": [
    {
     "name": "stdout",
     "output_type": "stream",
     "text": [
      "Evaluation with WGAN-GP\n",
      "\tWGAN-GP independent \tWGAN-GP independent-separable \tWGAN-GP multi-channel \tWGAN-GP multi-channel separable \tWGAN-GP star-shaped \n",
      "Alp14 \t 0.56±0.27 \t 1.24±0.15 \t 3.16±0.36 \t 2.35±0.52 \t 0.64±0.34 \n",
      "Arp3 \t 1.23±0.26 \t 2.36±0.37 \t 3.20±0.36 \t 4.23±0.36 \t 2.10±0.47 \n",
      "Cki2 \t 0.35±0.52 \t 0.97±0.35 \t 2.49±0.31 \t 3.64±0.52 \t 1.19±0.29 \n",
      "Mkh1 \t 0.78±0.55 \t 0.53±0.41 \t 4.58±0.47 \t 6.64±0.46 \t 2.40±0.56 \n",
      "Sid2 \t 0.84±0.40 \t 1.03±0.50 \t 4.49±0.51 \t 3.21±0.57 \t 1.08±0.56 \n",
      "Tea1 \t 0.83±0.51 \t 0.76±0.47 \t 4.38±0.32 \t 2.84±0.47 \t 1.07±0.37 \n",
      "all \t 0.76±0.16 \t 1.15±0.16 \t 3.72±0.14 \t 3.82±0.25 \t 1.41±0.15 \n",
      "\n"
     ]
    }
   ],
   "source": [
    "do_latex = False\n",
    "for i_eval in range(len(eval_methods)):\n",
    "    print('Evaluation with', eval_methods[i_eval])\n",
    "    if do_latex:\n",
    "        do_table_latex(mean_all[i_eval], std_all[i_eval], class_names)\n",
    "    else:\n",
    "        do_table(mean_all[i_eval], std_all[i_eval], class_names)\n",
    "    print('')"
   ]
  },
  {
   "cell_type": "code",
   "execution_count": 7,
   "metadata": {
    "collapsed": true
   },
   "outputs": [],
   "source": [
    "# getting real vs real numbers\n",
    "log_path_real_vs_real = '../real_vs_real/logs_eval_8class_real_vs_real'\n",
    "eval_methods = ['WGAN-GP']\n",
    "\n",
    "file_template_real_vs_real = 'seed{0}_split{1}_eval{2}_iter{3}_classes{4}{5}.txt'"
   ]
  },
  {
   "cell_type": "code",
   "execution_count": 8,
   "metadata": {},
   "outputs": [
    {
     "name": "stdout",
     "output_type": "stream",
     "text": [
      "Evaluation with WGAN-GP\n",
      "Alp14: 0.1 ± 0.2\n",
      "Arp3: 0.8 ± 0.4\n",
      "Cki2: -0.2 ± 0.3\n",
      "Mkh1: -0.2 ± 0.4\n",
      "Sid2: -0.6 ± 0.3\n",
      "Tea1: -0.1 ± 0.4\n",
      "Together: -0.1 ± 0.2\n"
     ]
    }
   ],
   "source": [
    "scores_real_vs_real = np.zeros((len(eval_methods), len(class_names), num_splits))\n",
    "for i_eval, eval_method in enumerate(eval_methods):\n",
    "    print('Evaluation with', eval_methods[i_eval])\n",
    "    for i_cl, cl_name in enumerate(class_names):\n",
    "        split_data = np.zeros(num_splits)\n",
    "        for i_split in range(num_splits):\n",
    "            file_name = os.path.join(log_path_real_vs_real, file_template_real_vs_real)\n",
    "            file_name = file_name.format(rand_seed, i_split, eval_method, num_diter, cl_name, cl_name)\n",
    "            scores_real_vs_real[i_eval, i_cl, i_split] = get_joint_score(file_name)\n",
    "        print('{0}: {1:0.1f} \\u00B1 {2:0.1f}'.format(cl_name,\n",
    "                                                     np.mean(scores_real_vs_real[i_eval, i_cl]),\n",
    "                                                     np.std(scores_real_vs_real[i_eval, i_cl])))\n",
    "    joint_scores = np.mean(scores_real_vs_real[i_eval], axis=0)\n",
    "    print('Together: {0:0.1f} \\u00B1 {1:0.1f}'.format(np.mean(joint_scores), np.std(joint_scores)))"
   ]
  }
 ],
 "metadata": {
  "kernelspec": {
   "display_name": "Python 3",
   "language": "python",
   "name": "python3"
  },
  "language_info": {
   "codemirror_mode": {
    "name": "ipython",
    "version": 3
   },
   "file_extension": ".py",
   "mimetype": "text/x-python",
   "name": "python",
   "nbconvert_exporter": "python",
   "pygments_lexer": "ipython3",
   "version": "3.6.1"
  }
 },
 "nbformat": 4,
 "nbformat_minor": 2
}
